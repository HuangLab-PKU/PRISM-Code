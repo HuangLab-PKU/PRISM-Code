{
 "cells": [
  {
   "cell_type": "code",
   "execution_count": 1,
   "metadata": {},
   "outputs": [],
   "source": [
    "import os\n",
    "import sys\n",
    "import warnings\n",
    "from pathlib import Path\n",
    "\n",
    "import numpy as np\n",
    "import pandas as pd\n",
    "import matplotlib.pyplot as plt\n",
    "import seaborn as sns\n",
    "from tqdm import tqdm\n",
    "\n",
    "# 忽略警告\n",
    "warnings.filterwarnings('ignore')\n",
    "\n",
    "# Matplotlib 配置\n",
    "plt.rcParams.update({\n",
    "    \"pgf.texsystem\": \"xelatex\",\n",
    "    'font.family': 'serif',\n",
    "    'text.usetex': False,\n",
    "    'pgf.rcfonts': False,\n",
    "    'figure.dpi': 300,\n",
    "})\n",
    "\n",
    "# 自动重载\n",
    "%load_ext autoreload\n",
    "%autoreload 2\n",
    "\n",
    "# 设置包路径，指向本仓库 src 目录\n",
    "package_path = r'C:\\Users\\Mingchuan\\Huanglab\\spatial\\PRISM\\code\\src'\n",
    "if package_path not in sys.path:\n",
    "    sys.path.append(package_path)\n",
    "\n",
    "from gene_calling.projection import (\n",
    "    projection_gene,\n",
    "    plot_params_generator,\n",
    "    export_density_tiff,\n",
    "    generate_colormap\n",
    ")\n",
    "\n",
    "BASE_DIR = Path(r'G:\\spatial_data\\processed')\n",
    "RUN_ID = '20250318_ZP_YCXin_PRISM_pro_exp_4_con_1_EtOH_Ab'\n",
    "src_dir = BASE_DIR / RUN_ID\n",
    "stc_dir = src_dir / 'stitched'\n",
    "read_dir = src_dir / 'readout'"
   ]
  },
  {
   "cell_type": "markdown",
   "metadata": {},
   "source": [
    "## plt format"
   ]
  },
  {
   "cell_type": "code",
   "execution_count": 2,
   "metadata": {},
   "outputs": [],
   "source": [
    "mapped_genes = pd.read_csv(read_dir / 'mapped_genes.csv')\n",
    "gene_list = mapped_genes['Gene'].unique()\n",
    "\n",
    "out_path = read_dir / 'density_png'\n",
    "out_path.mkdir(exist_ok=True)"
   ]
  },
  {
   "cell_type": "code",
   "execution_count": 3,
   "metadata": {},
   "outputs": [],
   "source": [
    "from tifffile import TiffFile\n",
    "with TiffFile(stc_dir/'cyc_1_cy3.tif') as tf:\n",
    "    ref_shape = tf.pages[0].shape  # (rows, cols)\n",
    "\n",
    "# 使用内置的色图生成函数\n",
    "thermal_LUT = pd.read_csv(Path(package_path)/'gene_calling'/'thermal_LUT.csv', index_col=0)\n",
    "thermal_LUT.loc[0] = [0, 0, 0]\n",
    "cmap_thermal = generate_colormap(thermal_LUT.values)\n",
    "# cmap_thermal\n",
    "\n",
    "plot_params_update = {\n",
    "    'canvas_shape': ref_shape,\n",
    "    'downsample_factor': 100,\n",
    "    'cmap': cmap_thermal, \n",
    "    # 'vmin': 2, 'vmax': 8,\n",
    "    'export_full_png': True,\n",
    "    'export_main_png': True,\n",
    "    # 'scale_bar': {\n",
    "    #   'pixel_size_um': 0.1625,    # 原始像素大小（可改）\n",
    "    #   'length_um': 1000,           # 比例尺长度\n",
    "    #   'height_px': 10,\n",
    "    #   'color': 'white',\n",
    "    #   'margin_px': 20,\n",
    "    #   'fontsize': 12,\n",
    "    #   'label': '',\n",
    "    # }\n",
    "    }"
   ]
  },
  {
   "cell_type": "code",
   "execution_count": 4,
   "metadata": {},
   "outputs": [
    {
     "name": "stdout",
     "output_type": "stream",
     "text": [
      "Slc17a7\n"
     ]
    },
    {
     "data": {
      "text/plain": [
       "<matplotlib.collections.QuadMesh at 0x21b89986710>"
      ]
     },
     "execution_count": 4,
     "metadata": {},
     "output_type": "execute_result"
    }
   ],
   "source": [
    "gene_order = 2\n",
    "gene_name = gene_list[gene_order-1]\n",
    "print(gene_name)\n",
    "points = mapped_genes[mapped_genes['Gene']==gene_name][['X', 'Y']].values\n",
    "x = points[:, 0]\n",
    "y = points[:, 1]\n",
    "\n",
    "projection_gene(x=x, y=y, gene_name=gene_name, outpath=out_path,\n",
    "                plot_params_update=plot_params_update)"
   ]
  },
  {
   "cell_type": "code",
   "execution_count": 5,
   "metadata": {},
   "outputs": [
    {
     "name": "stderr",
     "output_type": "stream",
     "text": [
      "100%|██████████| 45/45 [01:07<00:00,  1.50s/it]\n"
     ]
    }
   ],
   "source": [
    "for gene_order in tqdm(range(1, len(gene_list)+1)):\n",
    "  gene_name = gene_list[gene_order-1]\n",
    "  points = mapped_genes[mapped_genes['Gene']==gene_name][['X', 'Y']].values\n",
    "  x = points[:, 0]\n",
    "  y = points[:, 1]\n",
    "  projection_gene(x, y, gene_name=gene_name, outpath=out_path,\n",
    "                  plot_params_update=plot_params_update)"
   ]
  },
  {
   "cell_type": "markdown",
   "metadata": {},
   "source": [
    "# tiff images"
   ]
  },
  {
   "cell_type": "code",
   "execution_count": 6,
   "metadata": {},
   "outputs": [
    {
     "name": "stderr",
     "output_type": "stream",
     "text": [
      "100%|██████████| 45/45 [03:06<00:00,  4.15s/it]\n"
     ]
    }
   ],
   "source": [
    "from glob import glob\n",
    "\n",
    "density_dir = read_dir / 'density_tiff'\n",
    "density_dir.mkdir(exist_ok=True)\n",
    "\n",
    "# 使用库函数按参考TIFF尺寸导出下采样密度图\n",
    "mapped_genes = pd.read_csv(read_dir / 'mapped_genes.csv')\n",
    "gene_list = mapped_genes['Gene'].unique()\n",
    "\n",
    "ref_tif = stc_dir / 'cyc_1_cy3.tif'\n",
    "for gene in tqdm(gene_list):\n",
    "    if glob(str(density_dir / f'{gene}.tif')):\n",
    "        continue\n",
    "    export_density_tiff(\n",
    "        mapped_genes[mapped_genes['Gene'] == gene],\n",
    "        density_dir / f'{gene}.tif',\n",
    "        ref_shape=ref_shape,   # 直接用 shape\n",
    "        y_col='Y', x_col='X', fac=100\n",
    "    )"
   ]
  }
 ],
 "metadata": {
  "kernelspec": {
   "display_name": "PRISM",
   "language": "python",
   "name": "python3"
  },
  "language_info": {
   "codemirror_mode": {
    "name": "ipython",
    "version": 3
   },
   "file_extension": ".py",
   "mimetype": "text/x-python",
   "name": "python",
   "nbconvert_exporter": "python",
   "pygments_lexer": "ipython3",
   "version": "3.11.9"
  },
  "orig_nbformat": 4
 },
 "nbformat": 4,
 "nbformat_minor": 2
}
