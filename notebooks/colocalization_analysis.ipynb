{
 "cells": [
  {
   "cell_type": "markdown",
   "metadata": {},
   "source": [
    "# TCR Analysis"
   ]
  },
  {
   "cell_type": "markdown",
   "metadata": {},
   "source": [
    "## Environment"
   ]
  },
  {
   "cell_type": "code",
   "execution_count": 1,
   "metadata": {},
   "outputs": [],
   "source": [
    "import os\n",
    "import sys\n",
    "from pathlib import Path\n",
    "from tqdm import tqdm\n",
    "import numpy as np\n",
    "import pandas as pd\n",
    "import matplotlib.pyplot as plt\n",
    "import seaborn as sns\n",
    "import scanpy as sc\n",
    "import warnings\n",
    "warnings.filterwarnings('ignore')"
   ]
  },
  {
   "cell_type": "code",
   "execution_count": 2,
   "metadata": {},
   "outputs": [
    {
     "name": "stdout",
     "output_type": "stream",
     "text": [
      "3000\n"
     ]
    }
   ],
   "source": []
  },
  {
   "cell_type": "code",
   "execution_count": 2,
   "metadata": {},
   "outputs": [],
   "source": [
    "%load_ext autoreload\n",
    "%autoreload 2\n",
    "package_path = r'E:\\TMC\\PRISM_Code\\analysis_cell_typing'\n",
    "if package_path not in sys.path: sys.path.append(package_path)\n",
    "\n",
    "# # cell-typing\n",
    "# from cell_typing import QC_plot, general_preprocess, preprocess_of_UMAP, UMAP_genes_plot, UMAP_obs_plot, annotate\n",
    "# # spatial\n",
    "# from spatial import create_hull, show_cluster, ROI_mask_load\n",
    "# # correlation analysis\n",
    "# from correlation import matrix_for_heatmap"
   ]
  },
  {
   "cell_type": "code",
   "execution_count": 3,
   "metadata": {},
   "outputs": [],
   "source": [
    "BASE_DIR = Path(r'F:\\spatial_data\\processed')\n",
    "RUN_ID = '20241216_ZCH_TNBC_BZ01_CA2_5um_TCR_Tcell_only'\n",
    "src_dir = BASE_DIR / f'{RUN_ID}_processed'\n",
    "stc_dir = src_dir / 'stitched'\n",
    "read_dir = src_dir / 'readout'\n",
    "seg_dir = src_dir / 'segmented'\n",
    "analysis_dir = src_dir/\"analysis\"\n",
    "analysis_dir.mkdir(exist_ok=True)"
   ]
  },
  {
   "cell_type": "markdown",
   "metadata": {},
   "source": [
    "## load exp data"
   ]
  },
  {
   "cell_type": "code",
   "execution_count": 4,
   "metadata": {},
   "outputs": [
    {
     "data": {
      "text/plain": [
       "Index(['CD3D', 'CD4', 'CD8A', 'CLONOTYPE1_TRB', 'CLONOTYPE2_TRA',\n",
       "       'CLONOTYPE2_TRB', 'CLONOTYPE3_TRA', 'CLONOTYPE3_TRB', 'CLONOTYPE4_TRA',\n",
       "       'CLONOTYPE4_TRA-2', 'CLONOTYPE4_TRB', 'CLONOTYPE5_TRA',\n",
       "       'CLONOTYPE5_TRB'],\n",
       "      dtype='object')"
      ]
     },
     "execution_count": 4,
     "metadata": {},
     "output_type": "execute_result"
    }
   ],
   "source": [
    "# load expression matrix\n",
    "df = pd.read_csv(seg_dir/\"expression_matrix.csv\", index_col=0)\n",
    "df.drop('False_pos', axis=1, inplace=True)\n",
    "adata = sc.AnnData(df)\n",
    "adata.var.index = adata.var.index.str.upper()\n",
    "adata.obs['dataset'] = [\"PRISM\"] * len(adata)\n",
    "adata.obs['tissue'] = ['TNBC_BZ01_CA2'] * len(adata)\n",
    "adata.raw = adata\n",
    "gene_list = adata.var.index\n",
    "gene_list"
   ]
  },
  {
   "cell_type": "code",
   "execution_count": 5,
   "metadata": {},
   "outputs": [],
   "source": [
    "# load spatial information\n",
    "centroid = pd.read_csv(seg_dir/'dapi_predict.csv')\n",
    "centroid.index = centroid.index.astype(str)\n",
    "centroid_sub = centroid.loc[adata.obs.index]\n",
    "adata.obsm['spatial'] = np.array([centroid_sub['Y'], centroid_sub['X']]).T"
   ]
  },
  {
   "cell_type": "code",
   "execution_count": 6,
   "metadata": {},
   "outputs": [
    {
     "data": {
      "text/plain": [
       "AnnData object with n_obs × n_vars = 60543 × 13\n",
       "    obs: 'dataset', 'tissue'\n",
       "    obsm: 'spatial'"
      ]
     },
     "execution_count": 6,
     "metadata": {},
     "output_type": "execute_result"
    }
   ],
   "source": [
    "adata"
   ]
  },
  {
   "cell_type": "markdown",
   "metadata": {},
   "source": [
    "## Gene colocalization"
   ]
  },
  {
   "cell_type": "code",
   "execution_count": 7,
   "metadata": {},
   "outputs": [
    {
     "name": "stdout",
     "output_type": "stream",
     "text": [
      "(60543, 13)\n"
     ]
    },
    {
     "data": {
      "text/html": [
       "<div>\n",
       "<style scoped>\n",
       "    .dataframe tbody tr th:only-of-type {\n",
       "        vertical-align: middle;\n",
       "    }\n",
       "\n",
       "    .dataframe tbody tr th {\n",
       "        vertical-align: top;\n",
       "    }\n",
       "\n",
       "    .dataframe thead th {\n",
       "        text-align: right;\n",
       "    }\n",
       "</style>\n",
       "<table border=\"1\" class=\"dataframe\">\n",
       "  <thead>\n",
       "    <tr style=\"text-align: right;\">\n",
       "      <th></th>\n",
       "      <th>CD3D</th>\n",
       "      <th>CD4</th>\n",
       "      <th>CD8A</th>\n",
       "      <th>CLONOTYPE1_TRB</th>\n",
       "      <th>CLONOTYPE2_TRA</th>\n",
       "      <th>CLONOTYPE2_TRB</th>\n",
       "      <th>CLONOTYPE3_TRA</th>\n",
       "      <th>CLONOTYPE3_TRB</th>\n",
       "      <th>CLONOTYPE4_TRA</th>\n",
       "      <th>CLONOTYPE4_TRA-2</th>\n",
       "      <th>CLONOTYPE4_TRB</th>\n",
       "      <th>CLONOTYPE5_TRA</th>\n",
       "      <th>CLONOTYPE5_TRB</th>\n",
       "    </tr>\n",
       "  </thead>\n",
       "  <tbody>\n",
       "    <tr>\n",
       "      <th>0</th>\n",
       "      <td>5.0</td>\n",
       "      <td>3.0</td>\n",
       "      <td>2.0</td>\n",
       "      <td>2.0</td>\n",
       "      <td>1.0</td>\n",
       "      <td>4.0</td>\n",
       "      <td>2.0</td>\n",
       "      <td>0.0</td>\n",
       "      <td>2.0</td>\n",
       "      <td>6.0</td>\n",
       "      <td>5.0</td>\n",
       "      <td>0.0</td>\n",
       "      <td>0.0</td>\n",
       "    </tr>\n",
       "    <tr>\n",
       "      <th>1</th>\n",
       "      <td>8.0</td>\n",
       "      <td>1.0</td>\n",
       "      <td>2.0</td>\n",
       "      <td>1.0</td>\n",
       "      <td>1.0</td>\n",
       "      <td>2.0</td>\n",
       "      <td>4.0</td>\n",
       "      <td>1.0</td>\n",
       "      <td>0.0</td>\n",
       "      <td>1.0</td>\n",
       "      <td>2.0</td>\n",
       "      <td>0.0</td>\n",
       "      <td>0.0</td>\n",
       "    </tr>\n",
       "    <tr>\n",
       "      <th>2</th>\n",
       "      <td>4.0</td>\n",
       "      <td>0.0</td>\n",
       "      <td>3.0</td>\n",
       "      <td>0.0</td>\n",
       "      <td>1.0</td>\n",
       "      <td>0.0</td>\n",
       "      <td>2.0</td>\n",
       "      <td>1.0</td>\n",
       "      <td>1.0</td>\n",
       "      <td>3.0</td>\n",
       "      <td>1.0</td>\n",
       "      <td>1.0</td>\n",
       "      <td>2.0</td>\n",
       "    </tr>\n",
       "    <tr>\n",
       "      <th>3</th>\n",
       "      <td>2.0</td>\n",
       "      <td>0.0</td>\n",
       "      <td>2.0</td>\n",
       "      <td>1.0</td>\n",
       "      <td>1.0</td>\n",
       "      <td>1.0</td>\n",
       "      <td>2.0</td>\n",
       "      <td>1.0</td>\n",
       "      <td>0.0</td>\n",
       "      <td>4.0</td>\n",
       "      <td>1.0</td>\n",
       "      <td>0.0</td>\n",
       "      <td>1.0</td>\n",
       "    </tr>\n",
       "    <tr>\n",
       "      <th>4</th>\n",
       "      <td>14.0</td>\n",
       "      <td>1.0</td>\n",
       "      <td>3.0</td>\n",
       "      <td>2.0</td>\n",
       "      <td>5.0</td>\n",
       "      <td>3.0</td>\n",
       "      <td>5.0</td>\n",
       "      <td>3.0</td>\n",
       "      <td>3.0</td>\n",
       "      <td>2.0</td>\n",
       "      <td>6.0</td>\n",
       "      <td>0.0</td>\n",
       "      <td>1.0</td>\n",
       "    </tr>\n",
       "  </tbody>\n",
       "</table>\n",
       "</div>"
      ],
      "text/plain": [
       "   CD3D  CD4  CD8A  CLONOTYPE1_TRB  CLONOTYPE2_TRA  CLONOTYPE2_TRB  \\\n",
       "0   5.0  3.0   2.0             2.0             1.0             4.0   \n",
       "1   8.0  1.0   2.0             1.0             1.0             2.0   \n",
       "2   4.0  0.0   3.0             0.0             1.0             0.0   \n",
       "3   2.0  0.0   2.0             1.0             1.0             1.0   \n",
       "4  14.0  1.0   3.0             2.0             5.0             3.0   \n",
       "\n",
       "   CLONOTYPE3_TRA  CLONOTYPE3_TRB  CLONOTYPE4_TRA  CLONOTYPE4_TRA-2  \\\n",
       "0             2.0             0.0             2.0               6.0   \n",
       "1             4.0             1.0             0.0               1.0   \n",
       "2             2.0             1.0             1.0               3.0   \n",
       "3             2.0             1.0             0.0               4.0   \n",
       "4             5.0             3.0             3.0               2.0   \n",
       "\n",
       "   CLONOTYPE4_TRB  CLONOTYPE5_TRA  CLONOTYPE5_TRB  \n",
       "0             5.0             0.0             0.0  \n",
       "1             2.0             0.0             0.0  \n",
       "2             1.0             1.0             2.0  \n",
       "3             1.0             0.0             1.0  \n",
       "4             6.0             0.0             1.0  "
      ]
     },
     "execution_count": 7,
     "metadata": {},
     "output_type": "execute_result"
    }
   ],
   "source": [
    "exp_mtx = pd.read_csv(seg_dir / 'expression_matrix.csv')\n",
    "exp_mtx = exp_mtx.iloc[:, 1:]\n",
    "exp_mtx.drop('False_pos', axis=1, inplace=True)\n",
    "print(exp_mtx.shape)\n",
    "exp_mtx.head()"
   ]
  },
  {
   "cell_type": "code",
   "execution_count": 8,
   "metadata": {},
   "outputs": [],
   "source": [
    "df = exp_mtx.copy()\n",
    "correlation_matrix = df.corr()\n",
    "np.fill_diagonal(correlation_matrix.values, np.nan)\n",
    "plt.figure(figsize=(10, 8))\n",
    "sns.heatmap(correlation_matrix, annot=False, cmap='coolwarm')\n",
    "plt.title('Gene Expression Correlation', fontsize=16)\n",
    "plt.savefig(analysis_dir / 'gene_expression_correlation.png')\n",
    "plt.close()"
   ]
  },
  {
   "cell_type": "code",
   "execution_count": 9,
   "metadata": {},
   "outputs": [
    {
     "data": {
      "text/plain": [
       "Index(['CD3D', 'CD4', 'CD8A', 'CLONOTYPE1_TRB', 'CLONOTYPE2_TRA',\n",
       "       'CLONOTYPE2_TRB', 'CLONOTYPE3_TRA', 'CLONOTYPE3_TRB', 'CLONOTYPE4_TRA',\n",
       "       'CLONOTYPE4_TRA-2', 'CLONOTYPE4_TRB', 'CLONOTYPE5_TRA',\n",
       "       'CLONOTYPE5_TRB'],\n",
       "      dtype='object')"
      ]
     },
     "execution_count": 9,
     "metadata": {},
     "output_type": "execute_result"
    }
   ],
   "source": [
    "exp_mtx.columns"
   ]
  },
  {
   "cell_type": "markdown",
   "metadata": {},
   "source": [
    "## detailed"
   ]
  },
  {
   "cell_type": "code",
   "execution_count": null,
   "metadata": {},
   "outputs": [
    {
     "ename": "",
     "evalue": "",
     "output_type": "error",
     "traceback": [
      "\u001b[1;31mThe Kernel crashed while executing code in the current cell or a previous cell. \n",
      "\u001b[1;31mPlease review the code in the cell(s) to identify a possible cause of the failure. \n",
      "\u001b[1;31mClick <a href='https://aka.ms/vscodeJupyterKernelCrash'>here</a> for more info. \n",
      "\u001b[1;31mView Jupyter <a href='command:jupyter.viewOutput'>log</a> for further details."
     ]
    }
   ],
   "source": [
    "sc.pp.calculate_qc_metrics(adata, percent_top=None, inplace=True)\n",
    "\n",
    "sc.pp.normalize_total(adata, target_sum=1e4)\n",
    "sc.pp.log1p(adata)\n",
    "# Scale data to unit variance and zero mean\n",
    "sc.pp.regress_out(adata, [\"total_counts\"])\n",
    "sc.pp.scale(adata)"
   ]
  },
  {
   "cell_type": "code",
   "execution_count": null,
   "metadata": {},
   "outputs": [],
   "source": [
    "import seaborn as sns\n",
    "import matplotlib.pyplot as plt\n",
    "import pandas as pd\n",
    "\n",
    "# 假设 adata 是一个 AnnData 对象\n",
    "# 将 adata.X 转换为 DataFrame，并设置列名\n",
    "data = pd.DataFrame(adata.X, columns=adata.var_names)\n",
    "\n",
    "for method in ['single', 'complete', 'average', 'weighted', 'centroid', 'median', 'ward']:\n",
    "    # 绘制热图并对行进行聚类\n",
    "    # 如果不希望对列进行聚类，可以设置 col_cluster=False\n",
    "    g = sns.clustermap(\n",
    "        data,\n",
    "        cmap='coolwarm',\n",
    "        # xticklabels=False,   # 不显示列标签\n",
    "        yticklabels=False,   # 不显示行标签\n",
    "        row_cluster=True,    # 对行进行聚类\n",
    "        col_cluster=False,   # 根据需求决定是否对列进行聚类\n",
    "        method=method,\n",
    "        vmax=3,vmin=-3,\n",
    "    )\n",
    "\n",
    "    # 显示图形\n",
    "    plt.savefig(analysis_dir / f'clustermap_{method}.png')\n",
    "    plt.close()"
   ]
  }
 ],
 "metadata": {
  "kernelspec": {
   "display_name": "PRISM",
   "language": "python",
   "name": "python3"
  },
  "language_info": {
   "codemirror_mode": {
    "name": "ipython",
    "version": 3
   },
   "file_extension": ".py",
   "mimetype": "text/x-python",
   "name": "python",
   "nbconvert_exporter": "python",
   "pygments_lexer": "ipython3",
   "version": "3.11.9"
  }
 },
 "nbformat": 4,
 "nbformat_minor": 4
}
