{
 "cells": [
  {
   "cell_type": "code",
   "execution_count": null,
   "metadata": {},
   "outputs": [],
   "source": [
    "import warnings\n",
    "warnings.filterwarnings('ignore')\n",
    "import os\n",
    "import sys\n",
    "from pathlib import Path\n",
    "from tqdm import tqdm\n",
    "import pandas as pd\n",
    "import numpy as np\n",
    "import seaborn as sns\n",
    "import matplotlib.pyplot as plt\n",
    "plt.rcParams.update({\n",
    "    \"pgf.texsystem\": \"xelatex\",\n",
    "    'font.family': 'Arial',\n",
    "    'text.usetex': False,\n",
    "    'pgf.rcfonts': False,\n",
    "    'figure.dpi': 300,\n",
    "})\n",
    "\n",
    "%load_ext autoreload\n",
    "%autoreload 2\n",
    "package_path = r'C:\\Users\\Mingchuan\\Huanglab\\PRISM\\PRISM_Code\\gene_calling'\n",
    "if package_path not in sys.path: sys.path.append(package_path)\n",
    "\n",
    "# workdir \n",
    "BASE_DIR = Path(r'G:\\spatial_data\\processed')\n",
    "RUN_ID = 'example_dataset'\n",
    "src_dir = BASE_DIR / f'{RUN_ID}_processed'\n",
    "read_dir = src_dir / 'readout'\n",
    "figure_dir = read_dir / 'figures'\n",
    "read_dir.mkdir(exist_ok=True)\n",
    "figure_dir.mkdir(exist_ok=True)"
   ]
  },
  {
   "cell_type": "code",
   "execution_count": null,
   "metadata": {},
   "outputs": [],
   "source": [
    "# parameters\n",
    "PRISM_PANEL = 'PRISM30' # 'PRISM30', 'PRISM31', 'PRISM45', 'PRISM46', 'PRISM63', 'PRISM64'\n",
    "CODE_LIST = [_ for _ in range(1, 31)]\n",
    "GLAYER, COLOR_GRADE = 2, 5\n",
    "Q_CHNS = ['Ye/A', 'B/A', 'R/A']\n",
    "Q_NUM = int(COLOR_GRADE * (COLOR_GRADE + 1)/2)\n",
    "# visualization\n",
    "XRANGE, YRANGE = [-0.8, 0.8], [-0.6, 0.8]"
   ]
  },
  {
   "cell_type": "markdown",
   "metadata": {},
   "source": [
    "## Data Loading"
   ]
  },
  {
   "cell_type": "code",
   "execution_count": null,
   "metadata": {},
   "outputs": [],
   "source": [
    "# intensity_raw = pd.read_csv(read_dir / 'intensity_deduplicated.csv', index_col=0)\n",
    "# intensity = intensity_raw.copy()\n",
    "# intensity.head()\n",
    "\n",
    "\n",
    "# use this if needing to read from the raw data\n",
    "intensity_raw = pd.read_csv(read_dir / 'tmp' / 'intensity_raw.csv', index_col=0)\n",
    "intensity = intensity_raw.copy()\n",
    "# crosstalk elimination\n",
    "intensity['B'] = intensity['B'] - intensity['G'] * 0.25\n",
    "intensity['B'] = np.maximum(intensity['B'], 0)\n",
    "# scale the intensity\n",
    "intensity['Scaled_R'] = intensity['R']\n",
    "intensity['Scaled_Ye'] = intensity['Ye']\n",
    "intensity['Scaled_G'] = intensity['G'] * 2.5\n",
    "intensity['Scaled_B'] = intensity['B'] * 0.75\n",
    "# threshold by intensity\n",
    "intensity['sum'] = intensity['Scaled_R'] + intensity['Scaled_Ye'] + intensity['Scaled_B']\n",
    "# normalize\n",
    "intensity['G/A'] = intensity['Scaled_G'] / intensity['sum']\n",
    "intensity.loc[intensity['G/A']>5, 'G/A'] = 5\n",
    "intensity.head()"
   ]
  },
  {
   "cell_type": "markdown",
   "metadata": {},
   "source": [
    "# Preprocess"
   ]
  },
  {
   "cell_type": "code",
   "execution_count": null,
   "metadata": {},
   "outputs": [],
   "source": [
    "# set 1 subplot on the above and 4 on the below\n",
    "# the above subplot is the histogram of intensity sum column\n",
    "# the below subplots are the histogram of each channel\n",
    "# use gridspec to make the 1 row one subplot\n",
    "import matplotlib.gridspec as gridspec\n",
    "\n",
    "fig = plt.figure(figsize=(16, 8))\n",
    "gs = gridspec.GridSpec(2, 4, height_ratios=[2, 1])\n",
    "ax0 = plt.subplot(gs[0,:])\n",
    "\n",
    "sns.histplot(intensity['sum'], bins=200, ax=ax0)\n",
    "ax0.set_xlim((0, 20000))\n",
    "ax0.set_title('Intensity Sum')\n",
    "\n",
    "for i, channel in enumerate(['R','Ye','B','G']):\n",
    "    ax = plt.subplot(gs[1, i])\n",
    "    sns.histplot(intensity.loc[intensity[channel]>0, channel], bins=200, ax=ax)\n",
    "    median = intensity.loc[intensity[channel]>0, channel].median()\n",
    "    ax.set_xlim((0, 10000))\n",
    "    ax.set_title(f'{channel}_{median:.0f}')\n",
    "\n",
    "plt.tight_layout()\n",
    "plt.savefig(figure_dir / 'hist_intensity.png')\n",
    "# plt.close()"
   ]
  },
  {
   "cell_type": "code",
   "execution_count": null,
   "metadata": {},
   "outputs": [],
   "source": [
    "from lib.data_preprocess import deduplicate_df\n",
    "\n",
    "intensity = intensity[(intensity['sum']>500)&(intensity['sum']<10000)]\n",
    "intensity = deduplicate_df(intensity, columns=['Y','X'], sort_by='sum', threshold=2)"
   ]
  },
  {
   "cell_type": "markdown",
   "metadata": {},
   "source": [
    "## Raw Data distribution"
   ]
  },
  {
   "cell_type": "code",
   "execution_count": null,
   "metadata": {},
   "outputs": [],
   "source": [
    "intensity['Ye/A'] = intensity['Scaled_Ye'] / intensity['sum']\n",
    "intensity['B/A'] = intensity['Scaled_B'] / intensity['sum']\n",
    "intensity['R/A'] = intensity['Scaled_R'] / intensity['sum']\n",
    "intensity['G/A'] = intensity['Scaled_G'] / intensity['sum']\n",
    "intensity_G = intensity[intensity['G/A'].isna()]\n",
    "intensity = intensity[~intensity.index.isin(intensity_G.index)]\n",
    "\n",
    "if PRISM_PANEL in ('PRISM31', 'PRISM46', 'PRISM64'):\n",
    "    if PRISM_PANEL == 'PRISM31': THRE = 4\n",
    "    elif PRISM_PANEL == 'PRISM46': THRE = 4\n",
    "    elif PRISM_PANEL == 'PRISM64': THRE = 4\n",
    "    intensity_G = pd.concat([intensity_G, intensity[intensity['G/A'] > THRE]])\n",
    "    intensity = intensity[~intensity.index.isin(intensity_G.index)]\n",
    "\n",
    "# adjust of G_channel\n",
    "intensity['G/A'] = np.log(1 + intensity['G/A']) / np.log(10)\n",
    "if PRISM_PANEL in ('PRISM64', 'PRISM63'):\n",
    "    intensity['G/A'] = np.log(1 + intensity['G/A']) / np.log(10)\n",
    "    intensity['G/A'] = intensity['G/A'] * 3\n",
    "intensity['G/A'] = np.log1p(intensity['G/A']) \n",
    "\n",
    "# # adjust of FRET\n",
    "# intensity['G/A'] = intensity['G/A'] * np.exp(0.6 * intensity['Ye/A'])\n",
    "\n",
    "CD_1_proj = np.array([[-np.sqrt(2)/2], [np.sqrt(2)/2], [0]])\n",
    "CD_2_proj = np.array([[-1/2], [-1/2], [np.sqrt(2)/2]])\n",
    "RYB_xy_transform = np.concatenate([CD_1_proj, CD_2_proj], axis=1)\n",
    "intensity['CD_1'] = intensity[Q_CHNS] @ CD_1_proj\n",
    "intensity['CD_2'] = intensity[Q_CHNS] @ CD_2_proj"
   ]
  },
  {
   "cell_type": "code",
   "execution_count": null,
   "metadata": {},
   "outputs": [],
   "source": [
    "data = intensity.copy()\n",
    "fig, ax = plt.subplots(ncols=1, nrows=4, figsize=(7,5))\n",
    "ax[0].hist(bins=100, x=data['Ye/A'])\n",
    "ax[1].hist(bins=100, x=data['B/A'])\n",
    "ax[2].hist(bins=100, x=data['R/A'])\n",
    "ax[3].hist(bins=100, x=data['G/A'])\n",
    "plt.savefig(figure_dir / 'hist_raw.png', dpi=300, bbox_inches='tight')\n",
    "plt.close()"
   ]
  },
  {
   "cell_type": "markdown",
   "metadata": {},
   "source": [
    "## Gauss-blur and Orth-decompos"
   ]
  },
  {
   "cell_type": "code",
   "execution_count": null,
   "metadata": {},
   "outputs": [],
   "source": [
    "# blur at position 0\n",
    "gaussian = np.concatenate([np.random.normal(loc=0, scale=0.01, size=intensity[Q_CHNS].shape), np.random.normal(loc=0, scale=0.01, size=intensity[['G/A']].shape)], axis=1)\n",
    "intensity[Q_CHNS + ['G/A']] = intensity[Q_CHNS + ['G/A']].mask(intensity[Q_CHNS + ['G/A']]==0, gaussian)\n",
    "\n",
    "# blur at position 1\n",
    "gaussian = np.random.normal(loc=0, scale=0.01, size=intensity[Q_CHNS].shape)\n",
    "intensity[Q_CHNS] = intensity[Q_CHNS].mask(intensity[Q_CHNS]==1, 1 + gaussian)\n",
    "\n",
    "intensity['CD_1_blur'] = intensity[Q_CHNS] @ CD_1_proj\n",
    "intensity['CD_2_blur'] = intensity[Q_CHNS] @ CD_2_proj"
   ]
  },
  {
   "cell_type": "markdown",
   "metadata": {},
   "source": [
    "## Preprocessed data distribution"
   ]
  },
  {
   "cell_type": "markdown",
   "metadata": {},
   "source": [
    "### hist by channel"
   ]
  },
  {
   "cell_type": "code",
   "execution_count": null,
   "metadata": {},
   "outputs": [],
   "source": [
    "from scipy.signal import argrelextrema\n",
    "\n",
    "\n",
    "def plot_hist_with_extrema(a, ax=None, bins=100, extrema='max', kde_kws={'bw_adjust':0.5}):\n",
    "    sns.histplot(a, bins=bins, stat='count', edgecolor='white', alpha=1, ax=ax, kde=True, kde_kws=kde_kws)\n",
    "    y = ax.get_lines()[0].get_ydata()\n",
    "    if extrema == 'max': y = -y\n",
    "    extrema = [float(_/len(y)*(max(a)-min(a))+min(a)) for _ in argrelextrema(np.array(y), np.less)[0]]\n",
    "    for subextrema in extrema: ax.axvline(x=subextrema, color='r', alpha=0.5, linestyle='--')\n",
    "    return extrema\n",
    "\n",
    "data = intensity.sample(min(len(data), 200000))\n",
    "fig, ax = plt.subplots(ncols=1, nrows=4, figsize=(7, 7))\n",
    "plt.setp(ax, xlim=(-0.25, 1.2))\n",
    "Y_maxima = plot_hist_with_extrema(data['Ye/A'], ax=ax[0], extrema='max', kde_kws={'bw_adjust':1.6})\n",
    "B_maxima = plot_hist_with_extrema(data['B/A'], ax=ax[1], extrema='max', kde_kws={'bw_adjust':1})\n",
    "R_maxima = plot_hist_with_extrema(data['R/A'], ax=ax[2], extrema='max', kde_kws={'bw_adjust':1})\n",
    "G_minima = plot_hist_with_extrema(data['G/A'], ax=ax[3], extrema='min', kde_kws={'bw_adjust':2})\n",
    "if len(Y_maxima) != COLOR_GRADE: Y_maxima = [(_) / (COLOR_GRADE-1) for _ in range(COLOR_GRADE)]\n",
    "if len(B_maxima) != COLOR_GRADE: B_maxima = [(_) / (COLOR_GRADE-1) for _ in range(COLOR_GRADE)]\n",
    "if len(R_maxima) != COLOR_GRADE: R_maxima = [(_) / (COLOR_GRADE-1) for _ in range(COLOR_GRADE)]\n",
    "plt.savefig(figure_dir / 'hist_chn.png', dpi=300, bbox_inches='tight')\n",
    "plt.close()"
   ]
  },
  {
   "cell_type": "code",
   "execution_count": 58,
   "metadata": {},
   "outputs": [],
   "source": [
    "minima = G_minima.copy()\n",
    "minima = minima[: GLAYER - 1]\n",
    "minima.insert(0, intensity['G/A'].min()-0.01)\n",
    "minima.append(intensity['G/A'].max()+0.01)\n",
    "\n",
    "intensity['G_layer'] = pd.cut(intensity['G/A'], bins=minima, labels=[_ for _ in range(len(minima)-1)], include_lowest=True, right=False)"
   ]
  },
  {
   "cell_type": "markdown",
   "metadata": {},
   "source": [
    "### hist by Glayer"
   ]
  },
  {
   "cell_type": "code",
   "execution_count": null,
   "metadata": {},
   "outputs": [],
   "source": [
    "# preparation for init centroids\n",
    "import itertools\n",
    "\n",
    "def ybrg_to_rgb(ybr, g=0):\n",
    "    y, b, r = ybr\n",
    "    red = y + r\n",
    "    green = 0.9 * y + 0.2 * g\n",
    "    blue = b\n",
    "    return ((red, green, blue) / np.max((red, green, blue))).clip(0, 1)\n",
    "\n",
    "def reorder(array, order='PRISM30'):\n",
    "    if order in ('PRISM30', 'PRISM31', 'PRISM45', 'PRISM46'): \n",
    "        relabel = {1:1, 2:6, 3:10, 4:13, 5:15, 6:14, 7:12, 8:9, 9:5, 10:4, 11:3, 12:2, 13:7, 14:11, 15:8}\n",
    "    elif order == ('PRISM63', 'PRISM64'):\n",
    "        relabel = {1:1, 2:7, 3:12, 4:16, 5:19, 6:21, 7:20, 8:18, 9:15, 10:11, 11:6, 12:5, 13:4, 14:3, 15:2, 16:8, 17:13, 18:9, 19:17, 20:14, 21:10}\n",
    "    else:print('Undefined order, use PRISM30 or PRISM63 instead.')\n",
    "    return np.array([array[relabel[_]-1] for _ in relabel])\n",
    "\n",
    "\n",
    "centroid_init_dict = dict()\n",
    "colormap = dict()\n",
    "fig, ax =  plt.subplots(nrows=3, ncols=GLAYER, figsize=(20, 10))\n",
    "for layer in range(GLAYER):\n",
    "    data = intensity[intensity['G_layer'] == layer]\n",
    "    data = data.sample(min(100000, len(data)))\n",
    "    ax_tmp = ax if GLAYER < 2 else ax[:, layer]\n",
    "    ax_tmp[0].set_title(f'G_layer{layer}')\n",
    "    Y_maxima_tmp = plot_hist_with_extrema(data['Ye/A'], ax=ax_tmp[0], extrema='max', kde_kws={'bw_adjust':0.8})\n",
    "    B_maxima_tmp = plot_hist_with_extrema(data['B/A'], ax=ax_tmp[1], extrema='max', kde_kws={'bw_adjust':0.9})\n",
    "    R_maxima_tmp = plot_hist_with_extrema(data['R/A'], ax=ax_tmp[2], extrema='max', kde_kws={'bw_adjust':0.7})\n",
    "    if len(R_maxima_tmp) != COLOR_GRADE: R_maxima_tmp = R_maxima\n",
    "    if len(Y_maxima_tmp) != COLOR_GRADE: Y_maxima_tmp = Y_maxima\n",
    "    if len(B_maxima_tmp) != COLOR_GRADE: B_maxima_tmp = B_maxima\n",
    "    combinations = itertools.product(range(0, COLOR_GRADE), repeat=3)\n",
    "    filtered_combinations = filter(lambda x: sum(x) == COLOR_GRADE - 1, combinations)\n",
    "    centroid_init_dict[layer] = np.array([[Y_maxima_tmp[_[0]], B_maxima_tmp[_[1]], R_maxima_tmp[_[2]],] for _ in filtered_combinations])\n",
    "    centroid_init_dict[layer] = reorder(centroid_init_dict[layer], order=PRISM_PANEL)\n",
    "    color_list = [ybrg_to_rgb(_, g=layer/GLAYER) for _ in centroid_init_dict[layer]]\n",
    "    colormap[layer] = {layer*Q_NUM + i + 1:color_list[i] for i in range(len(color_list))}\n",
    "plt.savefig(figure_dir / 'hist_chn_layer.png', dpi=300, bbox_inches='tight')\n",
    "plt.close()"
   ]
  },
  {
   "cell_type": "markdown",
   "metadata": {},
   "source": [
    "### overview"
   ]
  },
  {
   "cell_type": "code",
   "execution_count": null,
   "metadata": {},
   "outputs": [],
   "source": [
    "s = 0.009\n",
    "alpha = 0.08\n",
    "percentile_thre = 99.5\n",
    "bins = (500, 500)\n",
    "\n",
    "n_rows = 2\n",
    "n_cols = 2 + GLAYER\n",
    "fig, ax = plt.subplots(nrows=n_rows, ncols=n_cols, figsize=(5 * n_cols + 2, 10))\n",
    "ax[1,0].scatter(intensity['CD_1_blur'], intensity['G/A'], s=s, alpha=alpha, linewidths=None)\n",
    "ax[1,0].set_ylim([-0.2,1.4])\n",
    "ax[0,1].scatter(intensity['CD_2_blur'], intensity['G/A'], s=s, alpha=alpha, linewidths=None)\n",
    "ax[0,1].set_ylim([-0.2,1.4])\n",
    "ax[0,0].scatter(intensity['CD_1_blur'], intensity['CD_2_blur'], s=s, alpha=alpha, linewidths=None)\n",
    "ax[0,0].set_xlim(XRANGE)\n",
    "ax[0,0].set_ylim(YRANGE)\n",
    "\n",
    "\n",
    "for subextrema in minima: ax[1,0].axhline(y=subextrema, color='r', alpha=0.5, linestyle='--')\n",
    "for subextrema in minima: ax[0,1].axhline(y=subextrema, color='r', alpha=0.5, linestyle='--')\n",
    "\n",
    "for layer in range(GLAYER):\n",
    "    ax_scatter = ax[0, 2+layer]\n",
    "    ax_hist = ax[1, 2+layer]\n",
    "    sub = intensity[intensity['G_layer']==layer]\n",
    "    ax_scatter.set_title(f'G={layer}')\n",
    "    ax_scatter.scatter(sub['CD_1_blur'], sub['CD_2_blur'], s=s, alpha=alpha, linewidths=None)\n",
    "    ax_scatter.set_xlim(XRANGE)\n",
    "    ax_scatter.set_ylim(YRANGE)\n",
    "\n",
    "    x, y = sub['CD_1_blur'], sub['CD_2_blur']\n",
    "    hist, xedges, yedges = np.histogram2d(x, y, bins=bins)\n",
    "    percentile = np.percentile(hist, percentile_thre)\n",
    "    ax_hist.hist2d(x, y, bins=bins, vmax=percentile,\n",
    "                   range=[XRANGE, YRANGE], cmap='inferno')\n",
    "    ax_hist.set_xlim(XRANGE)\n",
    "    ax_hist.set_ylim(YRANGE)\n",
    "    \n",
    "plt.savefig(figure_dir / 'ColorSpace_3view.png', dpi=300, bbox_inches='tight')\n",
    "plt.close()"
   ]
  },
  {
   "cell_type": "code",
   "execution_count": null,
   "metadata": {},
   "outputs": [],
   "source": [
    "# # run when needed to separate G\n",
    "# gap_l = 0\n",
    "# gap_r = 0\n",
    "# for division in minima[1: GLAYER]: intensity = intensity[(intensity['G/A']<division-gap_l)|(intensity['G/A']>division+gap_r)]\n",
    "\n",
    "# fig, ax = plt.subplots(nrows=n_rows, ncols=n_cols, figsize=(5 * n_cols + 2, 10))\n",
    "# ax[1,0].scatter(intensity['CD_1_blur'], intensity['G/A'], s=s, alpha=alpha, linewidths=None)\n",
    "# ax[1,0].set_ylim([-0.2,1.4])\n",
    "# ax[0,1].scatter(intensity['CD_2_blur'], intensity['G/A'], s=s, alpha=alpha, linewidths=None)\n",
    "# ax[0,1].set_ylim([-0.2,1.4])\n",
    "# ax[0,0].scatter(intensity['CD_1_blur'], intensity['CD_2_blur'], s=s, alpha=alpha, linewidths=None)\n",
    "# ax[0,0].set_xlim(XRANGE)\n",
    "# ax[0,0].set_ylim(YRANGE)\n",
    "\n",
    "# for subextrema in minima: ax[1,0].axhline(y=subextrema, color='r', alpha=0.5, linestyle='--')\n",
    "# for subextrema in minima: ax[0,1].axhline(y=subextrema, color='r', alpha=0.5, linestyle='--')\n",
    "\n",
    "# for layer in range(GLAYER):\n",
    "#     ax_scatter = ax[0, 2+layer]\n",
    "#     ax_hist = ax[1, 2+layer]\n",
    "#     sub = intensity[intensity['G_layer']==layer]\n",
    "#     # sub = intensity[(intensity['sum']>1000)&(intensity['sum']<15000)&(intensity['G_layer']==layer)]\n",
    "#     ax_scatter.set_title(f'G={layer}')\n",
    "#     ax_scatter.scatter(sub['CD_1_blur'], sub['CD_2_blur'], s=s, alpha=alpha, linewidths=None)\n",
    "#     ax_scatter.set_xlim(XRANGE)\n",
    "#     ax_scatter.set_ylim(YRANGE)\n",
    "\n",
    "#     x, y = sub['CD_1_blur'], sub['CD_2_blur']\n",
    "#     hist, xedges, yedges = np.histogram2d(x, y, bins=bins)\n",
    "#     percentile = np.percentile(hist, percentile_thre)\n",
    "#     ax_hist.hist2d(x, y, bins=bins, vmax=percentile, range=[XRANGE, YRANGE], cmap='inferno')\n",
    "#     ax_hist.set_xlim(XRANGE)\n",
    "#     ax_hist.set_ylim(YRANGE)\n",
    "# plt.savefig(figure_dir / 'ColorSpace_3view_G_adjusted.png', dpi=300, bbox_inches='tight')\n",
    "# plt.close()"
   ]
  },
  {
   "cell_type": "markdown",
   "metadata": {},
   "source": [
    "## Spots density in 3D"
   ]
  },
  {
   "cell_type": "code",
   "execution_count": null,
   "metadata": {},
   "outputs": [],
   "source": [
    "# from scipy import stats\n",
    "\n",
    "\n",
    "# if (read_dir / 'tmp' / 'density.bin').exists(): \n",
    "#     x, y, z = np.fromfile(read_dir / 'tmp' / 'x.bin'), np.fromfile(read_dir / 'tmp' / 'y.bin'), np.fromfile(read_dir / 'tmp' / 'z.bin')\n",
    "#     density = np.fromfile(read_dir / 'density.bin')\n",
    "# else:\n",
    "#     data = intensity.sample(min(1000000, len(intensity)))\n",
    "#     x = np.array(data['CD_1_blur'])\n",
    "#     y = np.array(data['CD_2_blur'])\n",
    "#     z = np.array(data['G/A'])\n",
    "#     xyz = np.vstack([x,y,z])\n",
    "#     density = stats.gaussian_kde(xyz)(xyz) \n",
    "#     x.tofile(read_dir / 'tmp' / 'x.bin')\n",
    "#     y.tofile(read_dir / 'tmp' / 'y.bin')\n",
    "#     z.tofile(read_dir / 'tmp' / 'z.bin')\n",
    "#     density.tofile(read_dir / 'tmp' / 'density.bin')\n",
    "\n",
    "# idx = density.argsort()\n",
    "# x, y, z, density = x[idx], y[idx], z[idx], density[idx]\n",
    "\n",
    "# fig = plt.figure(figsize=(7, 7))\n",
    "# ax = fig.add_subplot(111, projection='3d')\n",
    "# ax.scatter(x, y, z, c=density, cmap=plt.cm.gnuplot2, vmin=0, s=0.1, alpha=0.3, marker='o', edgecolor='none')\n",
    "# ax.set_zlim3d(-0.1, 0.8)\n",
    "# ax.view_init(elev=30, azim=270)\n",
    "# fig.set_facecolor('black')\n",
    "# ax.set_facecolor('black') \n",
    "# ax.grid(False) \n",
    "# ax.set_axis_off()\n",
    "# plt.savefig(figure_dir / 'ColorSpace_3D.png', dpi=300, bbox_inches='tight')\n",
    "# plt.close()"
   ]
  },
  {
   "cell_type": "markdown",
   "metadata": {},
   "source": [
    "# Gene Calling"
   ]
  },
  {
   "cell_type": "markdown",
   "metadata": {},
   "source": [
    "## GMM"
   ]
  },
  {
   "cell_type": "code",
   "execution_count": null,
   "metadata": {},
   "outputs": [],
   "source": [
    "from sklearn.mixture import GaussianMixture as GMM\n",
    "\n",
    "\n",
    "def apply_gmm(reduced_features, num_clusters, means_init=None):\n",
    "    gmm = GMM(n_components=num_clusters, covariance_type='diag', means_init=means_init)\n",
    "    gmm_clusters = gmm.fit(reduced_features)\n",
    "    labels = gmm_clusters.predict(reduced_features)\n",
    "    return  gmm_clusters, labels\n",
    "\n",
    "intensity['label'] = -1\n",
    "GMM_dict = dict()\n",
    "for layer in range(GLAYER):\n",
    "    centroids_init = centroid_init_dict[layer]\n",
    "    filtered_data = intensity[intensity['G_layer'] == layer]\n",
    "    reduced_features = filtered_data[Q_CHNS]\n",
    "    gmm, gmm_labels = apply_gmm(reduced_features, num_clusters=len(centroids_init), means_init=centroids_init)\n",
    "    GMM_dict[layer] = gmm \n",
    "    intensity.loc[filtered_data.index, 'label'] = gmm_labels + int(layer * Q_NUM + 1)"
   ]
  },
  {
   "cell_type": "code",
   "execution_count": null,
   "metadata": {},
   "outputs": [],
   "source": [
    "bins = (500, 500)\n",
    "percentile_thre = 98\n",
    "\n",
    "fig, ax = plt.subplots(nrows=2, ncols=GLAYER, figsize=(5.5 * GLAYER, 10))\n",
    "for layer in range(GLAYER):\n",
    "    ax_gmm = ax[0] if GLAYER < 2 else ax[0, layer]\n",
    "    ax_hist = ax[1] if GLAYER < 2 else ax[1, layer]\n",
    "    data = intensity[intensity['G_layer'] == layer]\n",
    "    data = data[data['label'] != -1]\n",
    "    gmm = GMM_dict[layer]\n",
    "    \n",
    "    # ax_gmm.scatter(data['CD_1_blur'], data['CD_2_blur'], c=data['label'], marker='.', alpha=0.1, s=0.1)\n",
    "    ax_gmm.scatter(data['CD_1_blur'], data['CD_2_blur'], label=data['label'],\n",
    "                   c=[colormap[layer][label] for label in data['label']], marker='.', alpha=alpha, s=s)\n",
    "    for i in range(1 + layer * Q_NUM, 1 + (layer+1) * Q_NUM):\n",
    "        cen_tmp = np.mean(data[data['label']==i][['CD_1_blur', 'CD_2_blur']], axis=0)\n",
    "        ax_gmm.text(cen_tmp[0], cen_tmp[1], i, fontsize=12, color='black', ha='center', va='center')\n",
    "    RYB_xy_transform = np.concatenate([CD_1_proj, CD_2_proj], axis=1)\n",
    "    centroid_init = centroid_init_dict[layer] @ RYB_xy_transform\n",
    "    ax_gmm.scatter(centroid_init[:, 0], centroid_init[:, 1], color='cyan', s=1.5, alpha=0.7)\n",
    "\n",
    "    ax_gmm.set_title(f'G={layer}')\n",
    "    ax_gmm.set_xlim(XRANGE)\n",
    "    ax_gmm.set_ylim(YRANGE)\n",
    "\n",
    "    x, y = data['CD_1_blur'], data['CD_2_blur']\n",
    "    hist, xedges, yedges = np.histogram2d(x, y, bins=bins)\n",
    "    percentile = np.percentile(hist, percentile_thre)\n",
    "    ax_hist.hist2d(x, y, bins=bins, vmax=percentile,\n",
    "                   range=[XRANGE, YRANGE], cmap='inferno')\n",
    "    ax_hist.set_xlim(XRANGE)\n",
    "    ax_hist.set_ylim(YRANGE)\n",
    "\n",
    "axes = ax.flat\n",
    "for i in range(len(axes)):\n",
    "    ax = axes[i]\n",
    "    ax.set_xticks([])\n",
    "    ax.set_xticks([])\n",
    "    ax.set_yticks([])\n",
    "    ax.set_xlabel('')\n",
    "    ax.set_ylabel('')\n",
    "    ax.set_title('')\n",
    "    bbox = ax.get_tightbbox(fig.canvas.get_renderer())\n",
    "    bbox = bbox.transformed(fig.dpi_scale_trans.inverted())\n",
    "    plt.savefig(figure_dir / f'{i//GLAYER+1}-layer{i%GLAYER+1}.png', bbox_inches=bbox)\n",
    "\n",
    "plt.tight_layout()\n",
    "plt.savefig(figure_dir / 'ColorSpace_GMM.png', dpi=300)\n",
    "plt.close()"
   ]
  },
  {
   "cell_type": "markdown",
   "metadata": {},
   "source": [
    "## manual check"
   ]
  },
  {
   "cell_type": "code",
   "execution_count": null,
   "metadata": {},
   "outputs": [],
   "source": [
    "import cv2\n",
    "from lib.manual_thre import draw_mask_manual\n",
    "\n",
    "# Adjust mask\n",
    "mask_check_dir = read_dir / 'mask_check'\n",
    "mask_check_dir.mkdir(exist_ok=True)\n",
    "draw_mask_manual(image_path=str(read_dir / 'figures' / '2-layer1.png'),\n",
    "                 mask_path=str(read_dir / 'mask_check' / 'mask_1.png'))"
   ]
  },
  {
   "cell_type": "code",
   "execution_count": null,
   "metadata": {},
   "outputs": [],
   "source": [
    "if not 'label' in intensity.columns: intensity['label'] = 0\n",
    "intensity_check = intensity[['Y','X','CD_1_blur', 'CD_2_blur', 'G/A', 'G_layer', 'label']]\n",
    "\n",
    "# Adjust G\n",
    "# intensity_check['check_G_layer'] = intensity_check['G_layer']\n",
    "# adjusted_G = intensity_check[(intensity_check['G/A']>0.5)&(intensity_check['G/A']<1)]\n",
    "# intensity_check.loc[adjusted_G.index, 'check_G_layer'] = 1"
   ]
  },
  {
   "cell_type": "code",
   "execution_count": null,
   "metadata": {},
   "outputs": [],
   "source": [
    "from lib.projection import generate_colormap\n",
    "\n",
    "thermal_LUT = pd.read_csv(os.path.join(package_path, 'thermal_LUT.csv'), index_col=0)\n",
    "thermal_LUT.loc[0] = [0, 0, 0]\n",
    "cmap_thermal = generate_colormap(thermal_LUT.values)\n",
    "cmap_thermal"
   ]
  },
  {
   "cell_type": "code",
   "execution_count": null,
   "metadata": {},
   "outputs": [],
   "source": [
    "import matplotlib\n",
    "from lib.manual_thre import relabel_mask\n",
    "from lib.projection import plot_params_generator, customize_axis, projection_gene\n",
    "\n",
    "plot_params = plot_params_generator(x=intensity_check['X'], y=intensity_check['Y'], downsample_factor=100, edge=0.05)\n",
    "plot_params['cmap'] = cmap_thermal\n",
    "# plot_params['percentile_max'] = 10\n",
    "# plot_params['percentile_min'] = 1\n",
    "\n",
    "# 设置画布 \n",
    "fig_height_inch = plot_params['fig_height_inch']\n",
    "main_plot_width_inch = plot_params['main_plot_width_inch']\n",
    "cbar_width_inch = plot_params['cbar_width_inch']\n",
    "gap_width_inch = 1\n",
    "full_height_inch = fig_height_inch + 2 * gap_width_inch\n",
    "full_width_inch = main_plot_width_inch + fig_height_inch-gap_width_inch + cbar_width_inch + 3 * gap_width_inch\n",
    "grid_resolution = 100\n",
    "spots_color = 'lightblue'\n",
    "select_spot_color = 'red'"
   ]
  },
  {
   "cell_type": "code",
   "execution_count": null,
   "metadata": {},
   "outputs": [],
   "source": [
    "# 保存图片\n",
    "density_dir = read_dir / 'density_check'\n",
    "density_dir.mkdir(exist_ok=True)\n",
    "label_list = [_.split('_')[-1].split('.')[0] for _ in os.listdir(mask_check_dir) if _.endswith('.png')]\n",
    "label_list = sorted(label_list, key=lambda x: int(x.split('-')[0]))\n",
    "sample_frac = 0.01\n",
    "\n",
    "for label in tqdm(label_list):\n",
    "    intensity_check = intensity[['Y','X','CD_1_blur', 'CD_2_blur', 'G/A', 'G_layer', 'label']]\n",
    "    mask = cv2.imread(os.path.join(mask_check_dir, f\"mask_{label}.png\"), cv2.IMREAD_GRAYSCALE).astype(bool)\n",
    "    glayer = (int(label.split('-')[0])-1) // Q_NUM\n",
    "    intensity_check = relabel_mask(intensity=intensity_check, plot_column=['CD_1_blur', 'CD_2_blur'], mask=mask, xlim=XRANGE,ylim=YRANGE, ch_label=label, mode='replace', G_layer=glayer)\n",
    "    \n",
    "    intensity_select = intensity_check[intensity_check['label']==label]\n",
    "    intensity_check_sample = intensity_check.sample(frac=sample_frac)\n",
    "    intensity_select_sample = intensity_select.sample(frac=sample_frac)\n",
    "    glayer = (int(label.split('-')[0])-1) // Q_NUM\n",
    "\n",
    "    fig = plt.figure(figsize=(full_width_inch, full_height_inch))\n",
    "    fig.set_facecolor('black')\n",
    "    one_cubic_num = int((fig_height_inch-gap_width_inch)*grid_resolution/2)\n",
    "    r_width_num = int(main_plot_width_inch * grid_resolution)\n",
    "    cbar_num = int(cbar_width_inch * grid_resolution)\n",
    "    gap_width_num = int(gap_width_inch * grid_resolution)\n",
    "\n",
    "    gs = fig.add_gridspec(2*one_cubic_num+3*gap_width_num, 2*one_cubic_num + 4*gap_width_num + r_width_num + cbar_num)\n",
    "    ax_lu = fig.add_subplot(gs[gap_width_num: one_cubic_num+gap_width_num, gap_width_num: one_cubic_num+gap_width_num], projection='3d')\n",
    "    ax_lu.set_axis_off()\n",
    "    ax_lb = fig.add_subplot(gs[one_cubic_num+2*gap_width_num: 2*one_cubic_num+2*gap_width_num, gap_width_num: one_cubic_num+gap_width_num])\n",
    "    ax_ru = fig.add_subplot(gs[gap_width_num: one_cubic_num+gap_width_num, one_cubic_num+2*gap_width_num: 2*one_cubic_num+2*gap_width_num])\n",
    "    ax_rb = fig.add_subplot(gs[one_cubic_num+2*gap_width_num: 2*one_cubic_num+2*gap_width_num, one_cubic_num+2*gap_width_num: 2*one_cubic_num+2*gap_width_num])\n",
    "    ax_r = fig.add_subplot(gs[gap_width_num: 2*one_cubic_num+2*gap_width_num, 2*one_cubic_num+4*gap_width_num: 2*one_cubic_num+4*gap_width_num+r_width_num])\n",
    "    cax = fig.add_subplot(gs[gap_width_num: 2*one_cubic_num+2*gap_width_num, 2*one_cubic_num+4*gap_width_num+r_width_num: 2*one_cubic_num+4*gap_width_num+r_width_num+cbar_num])\n",
    "\n",
    "    # Customizing each subplot\n",
    "    customize_axis(ax_lu)\n",
    "    customize_axis(ax_lb)\n",
    "    customize_axis(ax_ru)\n",
    "    customize_axis(ax_rb)\n",
    "    customize_axis(ax_r)\n",
    "    customize_axis(cax)\n",
    "\n",
    "    # left upper\n",
    "    x = intensity_check_sample['CD_1_blur']\n",
    "    y = intensity_check_sample['CD_2_blur']\n",
    "    z = intensity_check_sample['G/A']\n",
    "    ax_lu.scatter(x, y, z, c=spots_color, marker='.', s=s, alpha=alpha, linewidths=None)\n",
    "    x_select = intensity_select_sample['CD_1_blur']\n",
    "    y_select = intensity_select_sample['CD_2_blur']\n",
    "    z_select = intensity_select_sample['G/A']\n",
    "    ax_lu.scatter(x_select, y_select, z_select, c=select_spot_color, marker='.', s=s, alpha=min(1,5*alpha), linewidths=None)\n",
    "    ax_lu.set_xlim(XRANGE)\n",
    "    ax_lu.set_ylim(YRANGE)\n",
    "    ax_lu.set_zlim([-0.2,1])\n",
    "    ax_lu.view_init(elev=20, azim=-70) \n",
    "\n",
    "    # left bottom    \n",
    "    ax_lb.scatter(intensity_check_sample['CD_1_blur'], intensity_check_sample['G/A'], s=s, alpha=alpha, color=spots_color, linewidths=None)\n",
    "    ax_lb.scatter(intensity_select_sample['CD_1_blur'], intensity_select_sample['G/A'], s=s, alpha=min(1,2*alpha), color=select_spot_color, linewidths=None)\n",
    "    ax_lb.set_ylim([-0.2,1.4])\n",
    "\n",
    "    # right upper\n",
    "    ax_ru.scatter(intensity_check_sample['CD_2_blur'], intensity_check_sample['G/A'], s=s, alpha=alpha, color=spots_color, linewidths=None)\n",
    "    ax_ru.scatter(intensity_select_sample['CD_2_blur'], intensity_select_sample['G/A'], s=s, alpha=min(1,2*alpha), color=select_spot_color, linewidths=None)\n",
    "    ax_ru.set_ylim([-0.2,1.4])\n",
    "\n",
    "    # right bottom\n",
    "    intensity_layer = intensity_check_sample[intensity_check_sample['G_layer']==glayer]\n",
    "    ax_rb.scatter(intensity_layer['CD_1_blur'], intensity_layer['CD_2_blur'], s=s, alpha=alpha, color=spots_color, linewidths=None)\n",
    "    ax_rb.scatter(intensity_select_sample['CD_1_blur'], intensity_select_sample['CD_2_blur'], s=s, alpha=min(1,2*alpha), color=select_spot_color, linewidths=None)\n",
    "    ax_rb.set_xlim(XRANGE)\n",
    "    ax_rb.set_ylim(YRANGE)\n",
    "    ax_rb.set_title(f'G={glayer}')\n",
    "\n",
    "    # right: projection\n",
    "    plot_params['ax'] = ax_r\n",
    "    hist_im = projection_gene(x=intensity_select['X'], y=intensity_select['Y'], gene_name=label, plot_params_update=plot_params)\n",
    "    # right: colorbar\n",
    "    cbar = plt.colorbar(hist_im, cax=cax)\n",
    "    cbar.set_label('Counts', color='white')\n",
    "    cbar.ax.yaxis.set_tick_params(color='white')\n",
    "    cbar.ax.yaxis.set_tick_params(labelcolor='white')\n",
    "    cbar.formatter = matplotlib.ticker.FuncFormatter(lambda x, _: f'{round(x,1)}')\n",
    "    cbar.update_ticks()\n",
    "\n",
    "    # plt.subplots_adjust(left=0, right=1, top=1, bottom=0, wspace=0, hspace=0)\n",
    "    plt.savefig(density_dir / f'{label}.png', dpi=300, bbox_inches='tight')\n",
    "    plt.close()"
   ]
  },
  {
   "cell_type": "markdown",
   "metadata": {},
   "source": [
    "## manual revise"
   ]
  },
  {
   "cell_type": "code",
   "execution_count": 21,
   "metadata": {},
   "outputs": [],
   "source": [
    "# from lib.manual_thre import draw_mask_manual\n",
    "\n",
    "# os.makedirs(read_dir / 'masks', exist_ok=True)\n",
    "# draw_mask_manual(image_path = str(read_dir / 'figures' / '2-layer1.png'),\n",
    "#                   mask_path = str(read_dir / 'masks' / 'mask_29.png'),)"
   ]
  },
  {
   "cell_type": "code",
   "execution_count": null,
   "metadata": {},
   "outputs": [],
   "source": [
    "from lib.manual_thre import relabel\n",
    "\n",
    "print(len(intensity_raw))\n",
    "print(len(intensity))\n",
    "intensity = relabel(intensity, mask_dir=read_dir/'mask_check', mode='replace', num_per_layer=Q_NUM, xrange=XRANGE, yrange=YRANGE)\n",
    "intensity = relabel(intensity, mask_dir=read_dir/'mask_check', mode='discard', num_per_layer=Q_NUM, xrange=XRANGE, yrange=YRANGE)\n",
    "print(len(intensity))"
   ]
  },
  {
   "cell_type": "markdown",
   "metadata": {},
   "source": [
    "## visualization\n"
   ]
  },
  {
   "cell_type": "markdown",
   "metadata": {},
   "source": [
    "### spots num"
   ]
  },
  {
   "cell_type": "code",
   "execution_count": null,
   "metadata": {},
   "outputs": [],
   "source": [
    "data = intensity.copy()\n",
    "plt.figure(figsize=(Q_NUM * GLAYER / 3, 5))\n",
    "sns.barplot(x = [cluster_num + 1 for cluster_num in range(Q_NUM * GLAYER)], \n",
    "            y = [len(data[data['label']==cluster_num+1]) for cluster_num in range(Q_NUM * GLAYER)])\n",
    "plt.savefig(figure_dir / 'cluster_size.png', dpi=300, bbox_inches='tight')\n",
    "plt.close()"
   ]
  },
  {
   "cell_type": "markdown",
   "metadata": {},
   "source": [
    "### color space"
   ]
  },
  {
   "cell_type": "code",
   "execution_count": null,
   "metadata": {},
   "outputs": [],
   "source": [
    "def visualization(intensity_fra,\n",
    "                  G_layer=3,\n",
    "                  num_per_layer=21,\n",
    "                  bins = [100, 100],\n",
    "                  percentile_thre=90,\n",
    "                  XRANGE=[-0.8, 0.8],\n",
    "                  YRANGE=[-0.6, 0.8],\n",
    "                  out_path_dir=None,\n",
    "                  colormap_dict=None,\n",
    "                  label=True,):\n",
    "    \n",
    "    s = 1 / np.log2(len(intensity_fra)) *5\n",
    "    alpha = 1 / np.log2(len(intensity_fra)) \n",
    "\n",
    "    fig, ax = plt.subplots(nrows=2, ncols=G_layer, figsize=(5.5 * G_layer, 10))\n",
    "    for layer in tqdm(range(G_layer)):\n",
    "        data = intensity_fra[intensity_fra['G_layer'] == layer]\n",
    "        x, y = data['CD_1_blur'], data['CD_2_blur']\n",
    "        ax_scatter = ax[0] if G_layer < 2 else ax[0, layer]\n",
    "        if label and colormap_dict: \n",
    "            colormap = [colormap_dict[layer][label] for label in data['label']]\n",
    "            ax_scatter.scatter(data['CD_1_blur'], data['CD_2_blur'], c=colormap, label=data['label'], marker='.', alpha=alpha, s=s)\n",
    "        elif label:\n",
    "            ax_scatter.scatter(data['CD_1_blur'], data['CD_2_blur'], c=data['label'], marker='.', alpha=alpha, s=s)\n",
    "            for i in range(1 + layer * num_per_layer, 1 + (layer+1) * num_per_layer):\n",
    "                data_tmp = data[data['label']==i]\n",
    "                cen_tmp = np.mean(data_tmp[['CD_1_blur', 'CD_2_blur']], axis=0)\n",
    "                ax_scatter.text(cen_tmp[0], cen_tmp[1], i, fontsize=12, color='black', ha='center', va='center')\n",
    "        else: ax_scatter.scatter(data['CD_1_blur'], data['CD_2_blur'], marker='.', alpha=alpha, s=s)\n",
    "\n",
    "        ax_scatter.set_xlim(XRANGE)\n",
    "        ax_scatter.set_ylim(YRANGE)\n",
    "        ax_scatter.set_title(f'G={layer}')\n",
    "\n",
    "\n",
    "        ax_density = ax[1] if G_layer < 2 else ax[1, layer]\n",
    "        hist, xedges, yedges = np.histogram2d(x, y, bins=bins)\n",
    "        percentile = np.percentile(hist, percentile_thre)\n",
    "        ax_density.hist2d(x, y, bins=bins, vmax=percentile, range=[XRANGE, YRANGE], cmap='inferno')\n",
    "\n",
    "    plt.tight_layout()\n",
    "    if out_path_dir == None: plt.show()\n",
    "    else: plt.savefig(out_path_dir, bbox_inches = 'tight')\n",
    "    plt.close()"
   ]
  },
  {
   "cell_type": "code",
   "execution_count": null,
   "metadata": {},
   "outputs": [],
   "source": [
    "visualization(intensity, G_layer=GLAYER, num_per_layer=Q_NUM, bins=[500, 500], percentile_thre=99, colormap_dict=colormap, XRANGE=XRANGE, YRANGE=YRANGE)"
   ]
  },
  {
   "cell_type": "markdown",
   "metadata": {},
   "source": [
    "# Quality control"
   ]
  },
  {
   "cell_type": "markdown",
   "metadata": {},
   "source": [
    "## CDF analysis\n",
    "CDF, Cumulative Distribution Function"
   ]
  },
  {
   "cell_type": "markdown",
   "metadata": {},
   "source": [
    "### calculation"
   ]
  },
  {
   "cell_type": "code",
   "execution_count": null,
   "metadata": {},
   "outputs": [],
   "source": [
    "from tqdm import tqdm\n",
    "from scipy import stats\n",
    "import numpy as np\n",
    "\n",
    "\n",
    "def calculate_cdf(intensity, st, num_per_layer, channel=['Ye/A', 'B/A', 'R/A',]):\n",
    "    centroids = []\n",
    "    cdfs_df = pd.DataFrame()\n",
    "    for i in tqdm(range(st + 1, st + num_per_layer + 1), desc='component'):\n",
    "        data_cdf = intensity[channel]\n",
    "        data = intensity[intensity['label'] == i]\n",
    "        data = data[channel]\n",
    "        points = np.array(data)\n",
    "        \n",
    "        # calculate the mean\n",
    "        mean = np.mean(points, axis=0)\n",
    "\n",
    "        # calculate the covariance matrix\n",
    "        cov = np.cov(points, rowvar=False)\n",
    "\n",
    "        # calculate cdf\n",
    "        m_dist_x = (data_cdf - mean) @ np.linalg.pinv(cov)\n",
    "        m_dist_x = np.einsum('ij,ji->i', m_dist_x, (data_cdf - mean).T)\n",
    "        probability = 1 - stats.chi2.cdf(np.array(m_dist_x), len(channel))\n",
    "        cdfs_df[i] = probability\n",
    "        centroids.append(mean)\n",
    "    centroids = np.array(centroids)\n",
    "    cdfs_df.index = intensity.index\n",
    "\n",
    "    return cdfs_df, centroids"
   ]
  },
  {
   "cell_type": "code",
   "execution_count": null,
   "metadata": {},
   "outputs": [],
   "source": [
    "cdf_4d, centroids = calculate_cdf(intensity, st=0, num_per_layer=GLAYER*Q_NUM, channel=['Ye/A', 'B/A', 'R/A', 'G/A'])"
   ]
  },
  {
   "cell_type": "markdown",
   "metadata": {},
   "source": [
    "### evaluation"
   ]
  },
  {
   "cell_type": "code",
   "execution_count": 28,
   "metadata": {},
   "outputs": [],
   "source": [
    "import matplotlib.pyplot as plt\n",
    "import numpy as np\n",
    "\n",
    "def plot_mean_accuracy(cdfs_df, X_sub, sample=50, y_line=0.95, total_num=GLAYER*Q_NUM, \n",
    "                       out_path=read_dir / 'figures', ax=ax):\n",
    "    sample = 50\n",
    "    p_thre_list = [_/sample for _ in range(sample)]\n",
    "    accuracy = []\n",
    "\n",
    "    for _, p_thre in tqdm(enumerate(p_thre_list), total=len(p_thre_list), desc='accuracy'):\n",
    "        overlap = pd.DataFrame()\n",
    "\n",
    "        for cluster_num in range(1, total_num+1):\n",
    "            tmp = cdfs_df.loc[X_sub['label'][X_sub['label']==(cluster_num)].index]\n",
    "            overlap[cluster_num] = (tmp>p_thre).sum(axis=0)/len(tmp)\n",
    "        add = np.diag(overlap) / overlap.sum(axis=1)\n",
    "        accuracy.append(add)\n",
    "        overlap = pd.concat([overlap, pd.DataFrame(add).T], axis=0)\n",
    "\n",
    "    accuracy = np.array(accuracy)\n",
    "\n",
    "    # Create data\n",
    "    x = p_thre_list\n",
    "    y = np.mean(accuracy,axis=1)\n",
    "\n",
    "    indices = np.where(np.diff(np.sign(y - y_line)))[0][0]\n",
    "    x_intercepts = x[indices]\n",
    "    y_intercepts = y[indices]\n",
    "\n",
    "    # Plot the first dataset on primary axes\n",
    "    ax.plot(x, y, 'b-')\n",
    "    ax.set_xlabel('P_thre')\n",
    "    ax.set_ylabel('mean', color='b')\n",
    "    ax.tick_params('y', colors='b')\n",
    "\n",
    "    ax.axhline(y_line, color='r', linestyle='--', label=f'y = {y_line}')\n",
    "    for x_i, y_i in zip([x_intercepts], [y_intercepts]):\n",
    "        plt.plot(x_i, y_i, 'ko')\n",
    "        plt.text(x_i, y_i, f'({x_i:.2f}, {y_i:.2f})')\n",
    "    ax.set_title(\"Confidence\")\n",
    "\n",
    "    return accuracy, x_intercepts, y_intercepts"
   ]
  },
  {
   "cell_type": "code",
   "execution_count": null,
   "metadata": {},
   "outputs": [],
   "source": [
    "p_thre_list = [0.1, 0.5]\n",
    "corr_method = 'spearman'\n",
    "\n",
    "fig, ax = plt.subplots(nrows=2, ncols=len(p_thre_list) + 1, figsize=(6 * (len(p_thre_list)+1) , 5 * 2))\n",
    "\n",
    "cdfs_df = cdf_4d.copy()\n",
    "X_sub = intensity.copy()\n",
    "ax_heat = ax[0, -1]\n",
    "\n",
    "corr_matrix = cdfs_df.corr(method=corr_method)\n",
    "sns.heatmap(corr_matrix, ax=ax_heat, cmap='coolwarm')\n",
    "\n",
    "ax_heat.set_title(f'{corr_method}_correlation')\n",
    "\n",
    "for _, p_thre in tqdm(enumerate(p_thre_list), total=len(p_thre_list), desc='p_thre'):\n",
    "    overlap = pd.DataFrame()\n",
    "    for cluster_num in range(1, GLAYER*Q_NUM+1):\n",
    "        tmp = cdfs_df.loc[X_sub['label'][X_sub['label']==(cluster_num)].index]\n",
    "        overlap[cluster_num] = (tmp>p_thre).sum(axis=0)/len(tmp)\n",
    "\n",
    "    # overlap calculation\n",
    "    add = np.diag(overlap) / overlap.sum(axis=0)\n",
    "    ax[1, _].bar(add.index, add.values)\n",
    "    overlap = pd.concat([overlap, pd.DataFrame(add).T], axis=0)\n",
    "\n",
    "    ax_tmp = ax[0, _]\n",
    "    ax_tmp.set_title(f'p_thre = {p_thre}')\n",
    "    sns.heatmap(overlap, vmin=0, vmax=1, ax=ax_tmp)\n",
    "\n",
    "\n",
    "accuracy, x_intercepts, y_intercepts = plot_mean_accuracy(\n",
    "    cdfs_df, X_sub, sample=100, y_line=0.9, total_num=GLAYER*Q_NUM, out_path=read_dir / 'figures' / 'accuracy.png', ax=ax[-1, -1])\n",
    "plt.tight_layout()\n",
    "plt.savefig(figure_dir / 'accuracy.pdf')"
   ]
  },
  {
   "cell_type": "markdown",
   "metadata": {},
   "source": [
    "### threshold"
   ]
  },
  {
   "cell_type": "code",
   "execution_count": null,
   "metadata": {},
   "outputs": [],
   "source": [
    "thre = x_intercepts\n",
    "\n",
    "thre_index = []\n",
    "cdfs_df = cdf_4d.copy()\n",
    "for cluster_num in range(1, GLAYER*Q_NUM+1):\n",
    "    tmp = cdf_4d.loc[intensity['label'][intensity['label']==(cluster_num)].index]\n",
    "    tmp = tmp[tmp[cluster_num]>thre]\n",
    "    thre_index += list(tmp.index)\n",
    "\n",
    "thre_index.sort()\n",
    "thre_index = pd.Index(thre_index)\n",
    "thre_index = thre_index.unique()\n",
    "\n",
    "print(f'thre={thre}\\tpoints_kept: {len(thre_index) / len(intensity_raw) * 100 :.1f}%')"
   ]
  },
  {
   "cell_type": "code",
   "execution_count": null,
   "metadata": {},
   "outputs": [],
   "source": [
    "data = intensity.copy()\n",
    "data = data.loc[thre_index]\n",
    "if PRISM_PANEL in ['PRISM64', 'PRISM31']:\n",
    "    if PRISM_PANEL == 'PRISM64': intensity_G['label'] = 64\n",
    "    elif PRISM_PANEL == 'PRISM31': intensity_G['label'] = 31\n",
    "    data = pd.concat([data, intensity_G], axis=0)"
   ]
  },
  {
   "cell_type": "markdown",
   "metadata": {},
   "source": [
    "## deduplicate"
   ]
  },
  {
   "cell_type": "code",
   "execution_count": null,
   "metadata": {},
   "outputs": [],
   "source": [
    "# from lib.data_preprocess import deduplicate_df\n",
    "\n",
    "# # deduplicated\n",
    "# mapped_genes = pd.DataFrame()\n",
    "# df = data[['Y','X','label']]\n",
    "# df = df[df['label']!=0]\n",
    "# for gene in tqdm(set(df['label'])):\n",
    "#     df_gene = df[df['label'] == gene]\n",
    "#     df_gene_reduced = deduplicate_df(df_gene)\n",
    "#     mapped_genes = pd.concat([mapped_genes, df_gene_reduced])\n",
    "# print(len(mapped_genes))"
   ]
  },
  {
   "cell_type": "markdown",
   "metadata": {},
   "source": [
    "## visualization"
   ]
  },
  {
   "cell_type": "code",
   "execution_count": null,
   "metadata": {},
   "outputs": [],
   "source": [
    "# spots num\n",
    "plt.figure(figsize=(Q_NUM * GLAYER / 3, 5))\n",
    "sns.barplot(x = [cluster_num + 1 for cluster_num in range(Q_NUM * GLAYER)], \n",
    "            y = [len(data[data['label']==cluster_num+1]) for cluster_num in range(Q_NUM * GLAYER)])\n",
    "plt.savefig(figure_dir / 'cluster_size_QC.png', dpi=300, bbox_inches='tight')\n",
    "plt.close()\n",
    "\n",
    "# color space\n",
    "visualization(intensity.loc[thre_index], G_layer=GLAYER, num_per_layer=Q_NUM, \n",
    "              colormap_dict=colormap, bins=[500, 500], percentile_thre=99, \n",
    "              out_path_dir=figure_dir / 'ColorSpace_QC.png', label=True)\n",
    "\n",
    "# vectors\n",
    "# GLAYER = 2\n",
    "fig = plt.figure(figsize=(10, GLAYER*5))\n",
    "for i in range(GLAYER):\n",
    "    tmp = intensity[intensity['G_layer']==i]\n",
    "    tmp = tmp.sample(min(100000,len(tmp)))\n",
    "    x = tmp['R']\n",
    "    y = tmp['Ye']\n",
    "    z = tmp['B']\n",
    "    \n",
    "    # 创建3D散点图\n",
    "    ax1 = fig.add_subplot(GLAYER, 2, 2*i+1, projection='3d')\n",
    "    scatter = ax1.scatter(x, y, z, c=tmp['label'], alpha=0.05, s=0.1, cmap='prism')\n",
    "    ax1.set_xlabel('R')\n",
    "    ax1.set_ylabel('Ye')\n",
    "    ax1.set_zlabel('B')\n",
    "    ax1.view_init(30, 45)\n",
    "    ax1.set_xlim([0, 5000])\n",
    "    ax1.set_ylim([0, 5000])\n",
    "    ax1.set_zlim([0, 5000])\n",
    "    ax1.set_title(f'G={i}')\n",
    "\n",
    "    # 为第二位的子图设置直方图\n",
    "    ax2 = fig.add_subplot(GLAYER, 2, 2*i+2)\n",
    "    for label in np.unique(tmp['label']): \n",
    "        sns.histplot(tmp[tmp['label']==label]['sum'], bins=100, alpha=0.05, kde=True, stat='density', edgecolor=None, ax=ax2)\n",
    "    ax2.set_xlim([500, 5000])\n",
    "    ax2.set_ylim([0, 0.003])\n",
    "    ax2.legend(np.unique(tmp['label']))\n",
    "\n",
    "# plt.tight_layout()\n",
    "plt.savefig(figure_dir / 'ColorSpace_vertor.png', bbox_inches='tight', dpi=300)\n",
    "plt.close()"
   ]
  },
  {
   "cell_type": "markdown",
   "metadata": {},
   "source": [
    "# Export"
   ]
  },
  {
   "cell_type": "code",
   "execution_count": null,
   "metadata": {},
   "outputs": [],
   "source": [
    "gene_info = pd.read_csv(src_dir / 'gene_list.csv',index_col=0)\n",
    "for _ in [1,5,9]: gene_info.loc[f'PRISM_{_}', 'gene'] = 'False_pos'\n",
    "\n",
    "mapped_genes = data[['Y', 'X', 'label']]\n",
    "gene_info_dict = gene_info['gene'].to_dict()\n",
    "mapped_genes = data[['Y', 'X', 'label']].copy()\n",
    "mapped_genes['Gene'] = mapped_genes['label'].map(lambda x: gene_info_dict.get(f'PRISM_{x}', 'default_value'))\n",
    "\n",
    "# mapped_genes['Gene'] = mapped_genes['label'].apply(lambda x: gene_info.loc[f'PRISM_{x}', 'gene'])\n",
    "# mapped_genes['Gene'] = mapped_genes['label']\n",
    "mapped_genes = mapped_genes[['X', 'Y', 'Gene']]\n",
    "mapped_genes[['Y', 'X', 'Gene']].to_csv(read_dir / 'mapped_genes.csv')\n",
    "mapped_genes"
   ]
  }
 ],
 "metadata": {
  "kernelspec": {
   "display_name": "PRISM-test",
   "language": "python",
   "name": "python3"
  },
  "language_info": {
   "codemirror_mode": {
    "name": "ipython",
    "version": 3
   },
   "file_extension": ".py",
   "mimetype": "text/x-python",
   "name": "python",
   "nbconvert_exporter": "python",
   "pygments_lexer": "ipython3",
   "version": "3.8.19"
  }
 },
 "nbformat": 4,
 "nbformat_minor": 2
}
